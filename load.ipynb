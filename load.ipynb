{
  "nbformat": 4,
  "nbformat_minor": 0,
  "metadata": {
    "colab": {
      "provenance": []
    },
    "kernelspec": {
      "name": "python3",
      "display_name": "Python 3"
    },
    "language_info": {
      "name": "python"
    }
  },
  "cells": [
    {
      "cell_type": "code",
      "execution_count": 12,
      "metadata": {
        "id": "v_-Rby3C-jNC"
      },
      "outputs": [],
      "source": [
        "import zipfile\n",
        "import os\n",
        "\n",
        "from pyspark.ml.feature import VectorAssembler\n",
        "from pyspark.ml.classification import GBTClassificationModel\n",
        "from pyspark.ml.classification import GBTClassifier\n",
        "from pyspark.sql import SparkSession\n",
        "from pyspark.sql import functions as F\n",
        "from pyspark.sql.functions import col, explode, collect_list, avg, stddev, max, array, udf\n",
        "from pyspark.sql.types import ArrayType, FloatType"
      ]
    },
    {
      "cell_type": "code",
      "source": [
        "spark = SparkSession.builder.appName(\"Time Series Binary Classification\").getOrCreate()"
      ],
      "metadata": {
        "id": "bh4Muo0Y-uYv"
      },
      "execution_count": 13,
      "outputs": []
    },
    {
      "cell_type": "markdown",
      "source": [
        "# Загрузка тестовых данных"
      ],
      "metadata": {
        "id": "g2kU59vx_G3j"
      }
    },
    {
      "cell_type": "code",
      "source": [
        "test_df = spark.read.parquet(\"/content/test.parquet\")\n",
        "test_df = test_df.fillna(0)"
      ],
      "metadata": {
        "id": "FOBlaiGL-yOY"
      },
      "execution_count": 14,
      "outputs": []
    },
    {
      "cell_type": "code",
      "source": [
        "def array_mean(values):\n",
        "    filtered_values = [v for v in values if v is not None]\n",
        "    if len(filtered_values) == 0:\n",
        "        return None\n",
        "    return sum(filtered_values) / len(filtered_values)\n",
        "\n",
        "def median(values):\n",
        "    values = [v for v in values if v is not None]\n",
        "    sorted_values = sorted(values)\n",
        "    n = len(sorted_values)\n",
        "    mid = n // 2\n",
        "    return (sorted_values[mid] if n % 2 != 0 else (sorted_values[mid - 1] + sorted_values[mid]) / 2) if values else None\n",
        "\n",
        "def moving_average(values, window_size=5):\n",
        "    values = [v for v in values if v is not None]\n",
        "    if len(values) < window_size:\n",
        "        return None\n",
        "    return sum(values[-window_size:]) / window_size\n",
        "\n",
        "def first_diff(values):\n",
        "    filtered_values = [v for v in values if v is not None]\n",
        "    # Вычисляем разности\n",
        "    return [filtered_values[i] - filtered_values[i - 1] for i in range(1, len(filtered_values))] if len(filtered_values) > 1 else []\n",
        "\n",
        "def mean_diff(differences):\n",
        "    return sum(differences) / len(differences) if len(differences) > 0 else None\n",
        "\n",
        "def stddev_diff(differences):\n",
        "    if len(differences) == 0:\n",
        "        return None\n",
        "    mean = sum(differences) / len(differences)\n",
        "    return (sum((x - mean) ** 2 for x in differences) / len(differences)) ** 0.5\n",
        "\n",
        "array_mean = F.udf(array_mean, FloatType())\n",
        "median_udf = F.udf(median, FloatType())\n",
        "moving_average_udf = F.udf(moving_average, FloatType())\n",
        "first_diff = F.udf(first_diff, ArrayType(FloatType()))\n",
        "mean_diff = F.udf(mean_diff, FloatType())\n",
        "stddev_diff = F.udf(stddev_diff, FloatType())"
      ],
      "metadata": {
        "id": "7KREPeFA_N3H"
      },
      "execution_count": 15,
      "outputs": []
    },
    {
      "cell_type": "code",
      "source": [
        "stats_test_df = test_df.withColumn(\"mean_value\", array_mean(\"values\")) \\\n",
        "       .withColumn(\"stddev_value\", F.expr(\"sqrt(aggregate(values, 0D, (acc, x) -> acc + pow(x - mean_value, 2)) / size(values))\")) \\\n",
        "       .withColumn(\"min_value\", F.array_min(\"values\")) \\\n",
        "       .withColumn(\"max_value\", F.array_max(\"values\")) \\\n",
        "       .withColumn(\"median_value\", median_udf(\"values\")) \\\n",
        "       .withColumn(\"lag1\", F.expr(\"values[size(values) - 1]\")) \\\n",
        "       .withColumn(\"lag2\", F.expr(\"values[size(values) - 2]\")) \\\n",
        "       .withColumn(\"moving_average\", moving_average_udf(\"values\")) \\\n",
        "       .withColumn(\"count_dates\", F.size(\"dates\")) \\\n",
        "       .withColumn(\"date_diff\",\n",
        "                   F.datediff(\n",
        "                       F.to_date(F.array_max(\"dates\"), \"yyyy-MM-dd\"),\n",
        "                       F.to_date(F.array_min(\"dates\"), \"yyyy-MM-dd\")\n",
        "                   )) \\\n",
        "       .withColumn(\"first_diff\", first_diff(\"values\")) \\\n",
        "       .withColumn(\"mean_diff\", mean_diff(\"first_diff\")) \\\n",
        "       .withColumn(\"stddev_diff\", stddev_diff(\"first_diff\"))"
      ],
      "metadata": {
        "id": "nEQhw5Qk-y4P"
      },
      "execution_count": 16,
      "outputs": []
    },
    {
      "cell_type": "code",
      "source": [
        "stats_test_df = stats_test_df.fillna(0)\n",
        "vector_assembler = VectorAssembler(inputCols=[\"mean_value\",\n",
        "                                              \"stddev_value\",\n",
        "                                              \"min_value\",\n",
        "                                              \"max_value\",\n",
        "                                              \"median_value\",\n",
        "                                              \"lag1\",\n",
        "                                              \"lag2\",\n",
        "                                              \"moving_average\",\n",
        "                                              \"count_dates\",\n",
        "                                              \"date_diff\",\n",
        "                                              \"mean_diff\",\n",
        "                                              \"stddev_diff\"\n",
        "                                              ], outputCol=\"features\")\n",
        "\n",
        "stats_test_df = vector_assembler.transform(stats_test_df)"
      ],
      "metadata": {
        "id": "PnM8e6x9-5qH"
      },
      "execution_count": 17,
      "outputs": []
    },
    {
      "cell_type": "markdown",
      "source": [
        "# Загрузка модели"
      ],
      "metadata": {
        "id": "UQho4Gzi_KoN"
      }
    },
    {
      "cell_type": "code",
      "source": [
        "os.makedirs(\"/content\", exist_ok=True)\n",
        "\n",
        "with zipfile.ZipFile(\"/content/model.zip\", 'r') as zip_ref:\n",
        "    zip_ref.extractall(\"/content/model\")"
      ],
      "metadata": {
        "id": "QHCJlkuz-qw_"
      },
      "execution_count": 18,
      "outputs": []
    },
    {
      "cell_type": "code",
      "source": [
        "model = GBTClassificationModel.load(\"/content/model\")\n",
        "predictions = model.transform(stats_test_df)"
      ],
      "metadata": {
        "id": "kfQDcNW_--95"
      },
      "execution_count": 19,
      "outputs": []
    },
    {
      "cell_type": "markdown",
      "source": [
        "# Сохранение результатов"
      ],
      "metadata": {
        "id": "bBHgn1Ox_22S"
      }
    },
    {
      "cell_type": "code",
      "source": [
        "def vector_to_array(v):\n",
        "    return v.toArray().tolist() if v is not None else None\n",
        "\n",
        "vector_to_array_udf = udf(vector_to_array, ArrayType(FloatType()))\n",
        "\n",
        "predictions = predictions.withColumn(\"probability_array\", vector_to_array_udf(col(\"probability\")))\n",
        "predictions = predictions.withColumn(\"score\", col(\"probability_array\").getItem(1))\n",
        "answer_df = predictions.select(\"id\", \"score\")\n",
        "answer_df.show()"
      ],
      "metadata": {
        "colab": {
          "base_uri": "https://localhost:8080/"
        },
        "id": "dOsYB739_1DC",
        "outputId": "03a0ec94-3895-4127-abad-8f42bdc695fc"
      },
      "execution_count": 20,
      "outputs": [
        {
          "output_type": "stream",
          "name": "stdout",
          "text": [
            "+-----+-----------+\n",
            "|   id|      score|\n",
            "+-----+-----------+\n",
            "| 6125|  0.1321214|\n",
            "|26781| 0.08898953|\n",
            "|13333|  0.4680012|\n",
            "|53218|0.026135966|\n",
            "|84204| 0.33392382|\n",
            "|69997|  0.7856886|\n",
            "|99301|  0.9422647|\n",
            "| 4361| 0.90713954|\n",
            "|46607| 0.16508186|\n",
            "|29836|  0.5854949|\n",
            "|59154|0.035277657|\n",
            "|80632|  0.8092701|\n",
            "|33723| 0.06686582|\n",
            "|  663| 0.04800655|\n",
            "|  764|0.101208024|\n",
            "|11059| 0.87399036|\n",
            "| 5358|0.023375642|\n",
            "|92154|  0.7972783|\n",
            "|73744|  0.5476228|\n",
            "|62536| 0.48465627|\n",
            "+-----+-----------+\n",
            "only showing top 20 rows\n",
            "\n"
          ]
        }
      ]
    },
    {
      "cell_type": "code",
      "source": [
        "answer_df.toPandas().to_csv('/content/submission.csv')"
      ],
      "metadata": {
        "id": "ti6EOQBh__Av"
      },
      "execution_count": 21,
      "outputs": []
    }
  ]
}